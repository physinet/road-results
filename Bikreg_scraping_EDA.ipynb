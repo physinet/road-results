{
 "cells": [
  {
   "cell_type": "code",
   "execution_count": 1,
   "metadata": {},
   "outputs": [],
   "source": [
    "import re\n",
    "import dill\n",
    "from requests_futures.sessions import FuturesSession\n",
    "from bs4 import BeautifulSoup\n",
    "from datetime import datetime\n",
    "import pandas as pd"
   ]
  },
  {
   "cell_type": "markdown",
   "metadata": {},
   "source": [
    "# Scrape race pages"
   ]
  },
  {
   "cell_type": "code",
   "execution_count": 17,
   "metadata": {},
   "outputs": [],
   "source": [
    "race_ids = list(range(1, 13000))\n",
    "session = FuturesSession(max_workers=8)\n",
    "futures = [session.get(f'https://results.bikereg.com/race/{i}') for i in race_ids]"
   ]
  },
  {
   "cell_type": "code",
   "execution_count": 18,
   "metadata": {},
   "outputs": [],
   "source": [
    "for i, future in enumerate(futures):\n",
    "    dill.dump(future.result().text, open(f'C:/data/results/{i}.pkd', 'wb'))"
   ]
  },
  {
   "cell_type": "markdown",
   "metadata": {},
   "source": [
    "## Extract race metadata"
   ]
  },
  {
   "cell_type": "code",
   "execution_count": 20,
   "metadata": {},
   "outputs": [],
   "source": [
    "def get_data(text):\n",
    "    name = ''\n",
    "    date = ''\n",
    "    loc = ''\n",
    "    json_url = ''\n",
    "    weather = ''\n",
    "    strava_url = ''\n",
    "    coord = None\n",
    "    \n",
    "    if 'No data' not in text:\n",
    "        soup = BeautifulSoup(text)\n",
    "        resultstitle = soup.select('div#resultstitle')[0].text\n",
    "        split = resultstitle.split('•')\n",
    "\n",
    "        regex = re.compile(r'([A-Za-z]{3})\\s+(\\d{1,2})\\s+(\\d{4})')\n",
    "        name = split[0].strip()\n",
    "        month, day, year = regex.findall(split[1].strip())[0]\n",
    "        date = datetime.strptime(' '.join([month, day, year]), '%b %d %Y')\n",
    "        loc = ''\n",
    "        if len(split) > 2:\n",
    "            loc = re.split('[\\t\\n\\r]', split[2])[0].strip()\n",
    "            \n",
    "        json_url = soup.select('span.downloadoptions')[0].find_all('a')[1]['href']\n",
    "        weather = soup.select('div#conditionssummary')[0].text.strip()\n",
    "        strava_url = soup.select('div#stravasegment')[0].select('a')[1]['href']\n",
    "        \n",
    "        try:\n",
    "            coord = re.findall(r'GetMap\\(\"([-\\d\\.]+):([-\\d\\.]+)\"', text)[0]\n",
    "        except IndexError:\n",
    "            pass\n",
    "            \n",
    "    return name, date, loc, json_url, weather, strava_url, coord"
   ]
  },
  {
   "cell_type": "code",
   "execution_count": 21,
   "metadata": {
    "scrolled": true
   },
   "outputs": [
    {
     "name": "stdout",
     "output_type": "stream",
     "text": [
      "100\n",
      "200\n",
      "300\n",
      "400\n",
      "500\n",
      "600\n",
      "700\n",
      "800\n",
      "900\n",
      "1000\n",
      "1100\n",
      "1200\n",
      "1300\n",
      "1400\n",
      "1500\n",
      "1600\n",
      "1700\n",
      "1800\n",
      "1900\n",
      "2000\n",
      "2100\n",
      "2200\n",
      "2300\n",
      "2400\n",
      "2500\n",
      "2600\n",
      "2700\n",
      "2800\n",
      "2900\n",
      "3000\n",
      "3100\n",
      "3200\n",
      "3300\n",
      "3400\n",
      "3500\n",
      "3600\n",
      "3700\n",
      "3800\n",
      "3900\n",
      "4000\n",
      "4100\n",
      "4200\n",
      "4300\n",
      "4400\n",
      "4500\n",
      "4600\n",
      "4700\n",
      "4800\n",
      "4900\n",
      "5000\n",
      "5100\n",
      "5200\n",
      "5300\n",
      "5400\n",
      "5500\n",
      "5600\n",
      "5700\n",
      "5800\n",
      "5900\n",
      "6000\n",
      "6100\n",
      "6200\n",
      "6300\n",
      "6400\n",
      "6500\n",
      "6600\n",
      "6700\n",
      "6800\n",
      "6900\n",
      "7000\n",
      "7100\n",
      "7200\n",
      "7300\n",
      "7400\n",
      "7500\n",
      "7600\n",
      "7700\n",
      "7800\n",
      "7900\n",
      "8000\n",
      "8100\n",
      "8200\n",
      "8300\n",
      "8400\n",
      "8500\n",
      "8600\n",
      "8700\n",
      "8800\n",
      "8900\n",
      "9000\n",
      "9100\n",
      "9200\n",
      "9300\n",
      "9400\n",
      "9500\n",
      "9600\n",
      "9700\n",
      "9800\n",
      "9900\n",
      "10000\n",
      "10100\n",
      "10200\n",
      "10300\n",
      "10400\n",
      "10500\n",
      "10600\n",
      "10700\n",
      "10800\n",
      "10900\n",
      "11000\n",
      "11100\n",
      "11200\n",
      "11300\n",
      "11400\n",
      "11500\n",
      "11600\n",
      "11700\n",
      "11800\n",
      "11900\n",
      "12000\n",
      "12100\n",
      "12200\n",
      "12300\n",
      "12400\n",
      "12500\n",
      "12600\n",
      "12700\n",
      "12800\n",
      "12900\n"
     ]
    },
    {
     "ename": "FileNotFoundError",
     "evalue": "[Errno 2] No such file or directory: 'C:/data/results/12999.pkd'",
     "output_type": "error",
     "traceback": [
      "\u001b[1;31m---------------------------------------------------------------------------\u001b[0m",
      "\u001b[1;31mFileNotFoundError\u001b[0m                         Traceback (most recent call last)",
      "\u001b[1;32m<ipython-input-21-a71d883c3bc5>\u001b[0m in \u001b[0;36m<module>\u001b[1;34m\u001b[0m\n\u001b[0;32m      6\u001b[0m     \u001b[1;32mif\u001b[0m \u001b[0mi\u001b[0m \u001b[1;32min\u001b[0m \u001b[1;33m[\u001b[0m\u001b[1;36m12533\u001b[0m\u001b[1;33m,\u001b[0m \u001b[1;36m12534\u001b[0m\u001b[1;33m]\u001b[0m\u001b[1;33m:\u001b[0m  \u001b[1;31m# these broke for some reason >:|\u001b[0m\u001b[1;33m\u001b[0m\u001b[1;33m\u001b[0m\u001b[0m\n\u001b[0;32m      7\u001b[0m         \u001b[1;32mcontinue\u001b[0m\u001b[1;33m\u001b[0m\u001b[1;33m\u001b[0m\u001b[0m\n\u001b[1;32m----> 8\u001b[1;33m     \u001b[0mtext\u001b[0m \u001b[1;33m=\u001b[0m \u001b[0mdill\u001b[0m\u001b[1;33m.\u001b[0m\u001b[0mload\u001b[0m\u001b[1;33m(\u001b[0m\u001b[0mopen\u001b[0m\u001b[1;33m(\u001b[0m\u001b[1;34mf'C:/data/results/{i}.pkd'\u001b[0m\u001b[1;33m,\u001b[0m \u001b[1;34m'rb'\u001b[0m\u001b[1;33m)\u001b[0m\u001b[1;33m)\u001b[0m\u001b[1;33m\u001b[0m\u001b[1;33m\u001b[0m\u001b[0m\n\u001b[0m\u001b[0;32m      9\u001b[0m     \u001b[0mdata\u001b[0m \u001b[1;33m=\u001b[0m \u001b[0mget_data\u001b[0m\u001b[1;33m(\u001b[0m\u001b[0mtext\u001b[0m\u001b[1;33m)\u001b[0m\u001b[1;33m\u001b[0m\u001b[1;33m\u001b[0m\u001b[0m\n\u001b[0;32m     10\u001b[0m     \u001b[0mdf\u001b[0m\u001b[1;33m.\u001b[0m\u001b[0mloc\u001b[0m\u001b[1;33m[\u001b[0m\u001b[0mi\u001b[0m\u001b[1;33m]\u001b[0m \u001b[1;33m=\u001b[0m \u001b[1;33m{\u001b[0m\u001b[0mc\u001b[0m\u001b[1;33m:\u001b[0m \u001b[0md\u001b[0m \u001b[1;32mfor\u001b[0m \u001b[0mc\u001b[0m\u001b[1;33m,\u001b[0m \u001b[0md\u001b[0m \u001b[1;32min\u001b[0m \u001b[0mzip\u001b[0m\u001b[1;33m(\u001b[0m\u001b[0mcolumns\u001b[0m\u001b[1;33m,\u001b[0m \u001b[0mdata\u001b[0m\u001b[1;33m)\u001b[0m\u001b[1;33m}\u001b[0m\u001b[1;33m\u001b[0m\u001b[1;33m\u001b[0m\u001b[0m\n",
      "\u001b[1;31mFileNotFoundError\u001b[0m: [Errno 2] No such file or directory: 'C:/data/results/12999.pkd'"
     ]
    }
   ],
   "source": [
    "columns=['name', 'date', 'loc', 'json_url', 'weather', 'strava_url', 'coord']\n",
    "df = pd.DataFrame(columns=columns)\n",
    "for i in race_ids:  # loop takes ~2 hour or so\n",
    "    if i % 100 == 0:\n",
    "        print(i)\n",
    "    if i in [12533, 12534]:  # these broke for some reason >:|\n",
    "        continue\n",
    "    text = dill.load(open(f'C:/data/results/{i}.pkd', 'rb'))\n",
    "    data = get_data(text)\n",
    "    df.loc[i] = {c: d for c, d in zip(columns, data)}"
   ]
  },
  {
   "cell_type": "code",
   "execution_count": 22,
   "metadata": {},
   "outputs": [],
   "source": [
    "df.to_pickle('C:/data/results/df.pkl')"
   ]
  },
  {
   "cell_type": "code",
   "execution_count": 60,
   "metadata": {},
   "outputs": [],
   "source": [
    "df = pd.read_pickle('C:/data/results/df.pkl')\n",
    "df = df[df['json_url'] != '']\n",
    "df['weather'] = df['weather'].str.split('\\n').str.get(-1)  # sometimes the weather column also got \"Series: \" information"
   ]
  },
  {
   "cell_type": "code",
   "execution_count": 88,
   "metadata": {},
   "outputs": [
    {
     "data": {
      "text/html": [
       "<div>\n",
       "<style scoped>\n",
       "    .dataframe tbody tr th:only-of-type {\n",
       "        vertical-align: middle;\n",
       "    }\n",
       "\n",
       "    .dataframe tbody tr th {\n",
       "        vertical-align: top;\n",
       "    }\n",
       "\n",
       "    .dataframe thead th {\n",
       "        text-align: right;\n",
       "    }\n",
       "</style>\n",
       "<table border=\"1\" class=\"dataframe\">\n",
       "  <thead>\n",
       "    <tr style=\"text-align: right;\">\n",
       "      <th></th>\n",
       "      <th>name</th>\n",
       "      <th>date</th>\n",
       "      <th>loc</th>\n",
       "      <th>json_url</th>\n",
       "      <th>weather</th>\n",
       "      <th>strava_url</th>\n",
       "      <th>coord</th>\n",
       "    </tr>\n",
       "  </thead>\n",
       "  <tbody>\n",
       "    <tr>\n",
       "      <th>12158</th>\n",
       "      <td>Herbalife Team MS  Criterium Series</td>\n",
       "      <td>2017-08-01 00:00:00</td>\n",
       "      <td>Kernersville, NC</td>\n",
       "      <td>downloadrace.php?raceID=12159&amp;json=1</td>\n",
       "      <td>Partly Cloudy, 82  degrees, wind 1 mph</td>\n",
       "      <td>http://app.strava.com/segments/</td>\n",
       "      <td>(36.1195182800293, -80.072509765625)</td>\n",
       "    </tr>\n",
       "    <tr>\n",
       "      <th>5786</th>\n",
       "      <td>UVM Green Mountain Weekend RR</td>\n",
       "      <td>2015-04-11 00:00:00</td>\n",
       "      <td>Charlotte, VT</td>\n",
       "      <td>downloadrace.php?raceID=5787&amp;json=1</td>\n",
       "      <td>Mostly Cloudy, 44  degrees, wind 12 mph</td>\n",
       "      <td>http://app.strava.com/segments/</td>\n",
       "      <td>None</td>\n",
       "    </tr>\n",
       "    <tr>\n",
       "      <th>4481</th>\n",
       "      <td>Richmond Road Race</td>\n",
       "      <td>2014-05-18 00:00:00</td>\n",
       "      <td>Beaverdam, VA</td>\n",
       "      <td>downloadrace.php?raceID=4482&amp;json=1</td>\n",
       "      <td>Clear, 63  degrees, wind 7 mph</td>\n",
       "      <td>http://app.strava.com/segments/</td>\n",
       "      <td>None</td>\n",
       "    </tr>\n",
       "    <tr>\n",
       "      <th>4508</th>\n",
       "      <td>Berkshire Cycling Classic</td>\n",
       "      <td>2014-06-14 00:00:00</td>\n",
       "      <td>Lenox, MA</td>\n",
       "      <td>downloadrace.php?raceID=4509&amp;json=1</td>\n",
       "      <td>Clear, 63  degrees, wind 13 mph</td>\n",
       "      <td>http://app.strava.com/segments/</td>\n",
       "      <td>None</td>\n",
       "    </tr>\n",
       "    <tr>\n",
       "      <th>8217</th>\n",
       "      <td>Mt Whitney Stage Race - Saturday</td>\n",
       "      <td>2016-08-27 00:00:00</td>\n",
       "      <td>Lone Pine, CA</td>\n",
       "      <td>downloadrace.php?raceID=8218&amp;json=1</td>\n",
       "      <td>Clear, 83  degrees, wind 7 mph</td>\n",
       "      <td>http://app.strava.com/segments/</td>\n",
       "      <td>None</td>\n",
       "    </tr>\n",
       "  </tbody>\n",
       "</table>\n",
       "</div>"
      ],
      "text/plain": [
       "                                      name                 date  \\\n",
       "12158  Herbalife Team MS  Criterium Series  2017-08-01 00:00:00   \n",
       "5786         UVM Green Mountain Weekend RR  2015-04-11 00:00:00   \n",
       "4481                    Richmond Road Race  2014-05-18 00:00:00   \n",
       "4508             Berkshire Cycling Classic  2014-06-14 00:00:00   \n",
       "8217      Mt Whitney Stage Race - Saturday  2016-08-27 00:00:00   \n",
       "\n",
       "                    loc                              json_url  \\\n",
       "12158  Kernersville, NC  downloadrace.php?raceID=12159&json=1   \n",
       "5786      Charlotte, VT   downloadrace.php?raceID=5787&json=1   \n",
       "4481      Beaverdam, VA   downloadrace.php?raceID=4482&json=1   \n",
       "4508          Lenox, MA   downloadrace.php?raceID=4509&json=1   \n",
       "8217      Lone Pine, CA   downloadrace.php?raceID=8218&json=1   \n",
       "\n",
       "                                               weather  \\\n",
       "12158           Partly Cloudy, 82  degrees, wind 1 mph   \n",
       "5786           Mostly Cloudy, 44  degrees, wind 12 mph   \n",
       "4481                    Clear, 63  degrees, wind 7 mph   \n",
       "4508                   Clear, 63  degrees, wind 13 mph   \n",
       "8217                    Clear, 83  degrees, wind 7 mph   \n",
       "\n",
       "                            strava_url                                 coord  \n",
       "12158  http://app.strava.com/segments/  (36.1195182800293, -80.072509765625)  \n",
       "5786   http://app.strava.com/segments/                                  None  \n",
       "4481   http://app.strava.com/segments/                                  None  \n",
       "4508   http://app.strava.com/segments/                                  None  \n",
       "8217   http://app.strava.com/segments/                                  None  "
      ]
     },
     "execution_count": 88,
     "metadata": {},
     "output_type": "execute_result"
    }
   ],
   "source": [
    "df.sample(5)"
   ]
  },
  {
   "cell_type": "code",
   "execution_count": 40,
   "metadata": {},
   "outputs": [
    {
     "data": {
      "text/plain": [
       "'Series: \\nBUMPS 2013\\n\\n\\n\\n\\n\\n\\r\\n       \\r\\n        Clear, 55  degrees, wind 7 mph'"
      ]
     },
     "execution_count": 40,
     "metadata": {},
     "output_type": "execute_result"
    }
   ],
   "source": [
    "df.loc[3635]['weather']"
   ]
  },
  {
   "cell_type": "markdown",
   "metadata": {},
   "source": [
    "## Download JSON results"
   ]
  },
  {
   "cell_type": "code",
   "execution_count": 4,
   "metadata": {},
   "outputs": [
    {
     "data": {
      "text/plain": [
       "2    downloadrace.php?raceID=12536&json=1\n",
       "3    downloadrace.php?raceID=12537&json=1\n",
       "4    downloadrace.php?raceID=12538&json=1\n",
       "5    downloadrace.php?raceID=12539&json=1\n",
       "6    downloadrace.php?raceID=12540&json=1\n",
       "Name: json_url, dtype: object"
      ]
     },
     "execution_count": 4,
     "metadata": {},
     "output_type": "execute_result"
    }
   ],
   "source": [
    "urls = df['json_url']\n",
    "urls.head()"
   ]
  },
  {
   "cell_type": "code",
   "execution_count": 9,
   "metadata": {},
   "outputs": [
    {
     "name": "stdout",
     "output_type": "stream",
     "text": [
      "2 downloadrace.php?raceID=12536&json=1\n",
      "3 downloadrace.php?raceID=12537&json=1\n",
      "4 downloadrace.php?raceID=12538&json=1\n",
      "5 downloadrace.php?raceID=12539&json=1\n",
      "6 downloadrace.php?raceID=12540&json=1\n",
      "7 downloadrace.php?raceID=12541&json=1\n",
      "9 downloadrace.php?raceID=12543&json=1\n",
      "10 downloadrace.php?raceID=12544&json=1\n",
      "11 downloadrace.php?raceID=12545&json=1\n",
      "12 downloadrace.php?raceID=12546&json=1\n"
     ]
    }
   ],
   "source": [
    "for i, url in urls[:10].iteritems():\n",
    "    print(i, url)\n",
    "    full_url = f'https://results.bikereg.com/{url}'\n",
    "    df_race = pd.read_json(full_url)\n",
    "    columns = [str(i) for i in range(28)]  # Each column repeated as an \"index\" for some reason\n",
    "    df_race = df_race.drop(columns=columns)"
   ]
  },
  {
   "cell_type": "code",
   "execution_count": 7,
   "metadata": {},
   "outputs": [
    {
     "data": {
      "text/plain": [
       "'downloadrace.php?raceID=12546&json=1'"
      ]
     },
     "execution_count": 7,
     "metadata": {},
     "output_type": "execute_result"
    }
   ],
   "source": [
    "df_race.topickle('C:/data/results/races/')"
   ]
  }
 ],
 "metadata": {
  "kernelspec": {
   "display_name": "Python 3",
   "language": "python",
   "name": "python3"
  },
  "language_info": {
   "codemirror_mode": {
    "name": "ipython",
    "version": 3
   },
   "file_extension": ".py",
   "mimetype": "text/x-python",
   "name": "python",
   "nbconvert_exporter": "python",
   "pygments_lexer": "ipython3",
   "version": "3.8.3"
  }
 },
 "nbformat": 4,
 "nbformat_minor": 4
}
