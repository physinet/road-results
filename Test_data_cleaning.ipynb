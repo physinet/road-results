{
 "cells": [
  {
   "cell_type": "code",
   "execution_count": 1,
   "metadata": {},
   "outputs": [],
   "source": [
    "import pandas as pd\n",
    "import dill\n",
    "import re\n",
    "import glob"
   ]
  },
  {
   "cell_type": "code",
   "execution_count": 2,
   "metadata": {},
   "outputs": [],
   "source": [
    "file = r'C:\\data\\results\\races\\1000.pkd'\n",
    "json = dill.load(open(file, 'rb'))\n",
    "df_race = pd.read_json(json)\n",
    "race_id = re.findall('(\\d+)', file)[0]\n",
    "df_race['race_id'] = int(race_id)"
   ]
  },
  {
   "cell_type": "code",
   "execution_count": 3,
   "metadata": {},
   "outputs": [],
   "source": [
    "from preprocess import clean"
   ]
  },
  {
   "cell_type": "code",
   "execution_count": 4,
   "metadata": {},
   "outputs": [],
   "source": [
    "clean(df_race)"
   ]
  },
  {
   "cell_type": "markdown",
   "metadata": {},
   "source": [
    "# Now for several races, using metadata dataframe to get the order right"
   ]
  },
  {
   "cell_type": "code",
   "execution_count": 5,
   "metadata": {
    "scrolled": false
   },
   "outputs": [],
   "source": [
    "df_meta = pd.read_pickle('C:/data/results/df.pkl')\n",
    "df_meta.sample(5)\n",
    "\n",
    "df_meta.sort_values('date')"
   ]
  },
  {
   "cell_type": "code",
   "execution_count": 6,
   "metadata": {},
   "outputs": [],
   "source": [
    "for j, (index, row) in enumerate(df_meta.iterrows()):\n",
    "    json = dill.load(open(f'C:\\\\data\\\\results\\\\races\\\\{index}.pkd', 'rb'))\n",
    "\n",
    "    df_race = pd.read_json(json)\n",
    "    if df_race.empty:\n",
    "        continue\n",
    "        \n",
    "    df_race = clean(df_race).assign(race_id=int(index))\n",
    "    \n",
    "    if j == 0:\n",
    "        df_all_races = df_race\n",
    "    else:\n",
    "        df_all_races = pd.concat([df_all_races, df_race])\n",
    "        \n",
    "    if j == 100:\n",
    "        break"
   ]
  },
  {
   "cell_type": "code",
   "execution_count": 36,
   "metadata": {},
   "outputs": [
    {
     "data": {
      "text/plain": [
       "Name                   RacerID\n",
       "Ciaran Mangan          145        49\n",
       "Adam Sternfield        582        46\n",
       "Paul Richard           595        44\n",
       "John Grenier           1005       41\n",
       "Glenn Ferreira         659        40\n",
       "Craig Harrison         978        39\n",
       "Wayne Kirk             2284       38\n",
       "Tom Stevens            394        36\n",
       "Adam Sullivan          347        36\n",
       "Jeremy Durrin          1705       35\n",
       "Sam Morse              576        35\n",
       "Michael Norton         1701       34\n",
       "Michael Brier          275        34\n",
       "Bill Yabroudy          1693       33\n",
       "James Nash             395        33\n",
       "William Thompson       392        33\n",
       "Tyler Munroe           588        33\n",
       "Duane Skofield         1622       33\n",
       "Tobi Schultze          1058       32\n",
       "Leo Devellian          968        32\n",
       "Mark Gunsalus          573        32\n",
       "Sven Lohse             983        32\n",
       "Sean Langford          669        32\n",
       "Scott Dolmat-connell   509        32\n",
       "Gary Aspnes            599        32\n",
       "Paul Curley            390        32\n",
       "Kyle Smith             1486       31\n",
       "Eiric Marro            31317      31\n",
       "Eric Pearce            580        31\n",
       "Jonathan Bold          1884       31\n",
       "Jonathan Lowenstein    336        30\n",
       "Christopher Naimie     1618       30\n",
       "Tim Dodd               1041       30\n",
       "Christopher Kohnle     526        30\n",
       "Jesse Chebot           665        30\n",
       "Peter Chiu             641        30\n",
       "Matt Rossman           965        30\n",
       "Ryan Kelly             529        30\n",
       "Katherine Snell        209        29\n",
       "R. michael Mckittrick  1732       29\n",
       "Mark Thompson          401        29\n",
       "Matthew Buckley        1174       29\n",
       "David Kahn             3835       29\n",
       "Mark Theeman           335        28\n",
       "Jay Robbins            1022       28\n",
       "Jurgen Nebelung        966        28\n",
       "Karl Hambrecht         784        28\n",
       "William Sawyer         800        28\n",
       "Matthew Spaits         704        28\n",
       "David Holmander        197        28\n",
       "dtype: int64"
      ]
     },
     "execution_count": 36,
     "metadata": {},
     "output_type": "execute_result"
    }
   ],
   "source": [
    "df_all_races.groupby(['Name', 'RacerID']).size().sort_values()[::-1].head(50)"
   ]
  },
  {
   "cell_type": "code",
   "execution_count": 8,
   "metadata": {
    "scrolled": false
   },
   "outputs": [
    {
     "data": {
      "text/html": [
       "<div>\n",
       "<style scoped>\n",
       "    .dataframe tbody tr th:only-of-type {\n",
       "        vertical-align: middle;\n",
       "    }\n",
       "\n",
       "    .dataframe tbody tr th {\n",
       "        vertical-align: top;\n",
       "    }\n",
       "\n",
       "    .dataframe thead th {\n",
       "        text-align: right;\n",
       "    }\n",
       "</style>\n",
       "<table border=\"1\" class=\"dataframe\">\n",
       "  <thead>\n",
       "    <tr style=\"text-align: right;\">\n",
       "      <th></th>\n",
       "      <th>Place</th>\n",
       "      <th>RaceTime</th>\n",
       "      <th>Name</th>\n",
       "      <th>Age</th>\n",
       "      <th>Category</th>\n",
       "      <th>RacerID</th>\n",
       "      <th>TeamID</th>\n",
       "      <th>TeamName</th>\n",
       "      <th>RaceName</th>\n",
       "      <th>RaceCategoryName</th>\n",
       "      <th>IsDQ</th>\n",
       "      <th>race_id</th>\n",
       "    </tr>\n",
       "  </thead>\n",
       "  <tbody>\n",
       "  </tbody>\n",
       "</table>\n",
       "</div>"
      ],
      "text/plain": [
       "Empty DataFrame\n",
       "Columns: [Place, RaceTime, Name, Age, Category, RacerID, TeamID, TeamName, RaceName, RaceCategoryName, IsDQ, race_id]\n",
       "Index: []"
      ]
     },
     "execution_count": 8,
     "metadata": {},
     "output_type": "execute_result"
    }
   ],
   "source": [
    "df_all_races[df_all_races['Name'].str.contains(r'[\\d]')]"
   ]
  },
  {
   "cell_type": "code",
   "execution_count": null,
   "metadata": {},
   "outputs": [],
   "source": []
  }
 ],
 "metadata": {
  "kernelspec": {
   "display_name": "Python 3",
   "language": "python",
   "name": "python3"
  },
  "language_info": {
   "codemirror_mode": {
    "name": "ipython",
    "version": 3
   },
   "file_extension": ".py",
   "mimetype": "text/x-python",
   "name": "python",
   "nbconvert_exporter": "python",
   "pygments_lexer": "ipython3",
   "version": "3.8.3"
  }
 },
 "nbformat": 4,
 "nbformat_minor": 4
}
