{
 "cells": [
  {
   "cell_type": "code",
   "execution_count": 1,
   "metadata": {},
   "outputs": [],
   "source": [
    "import glob\n",
    "import re\n",
    "import dill\n",
    "import pandas as pd\n",
    "import numpy as np"
   ]
  },
  {
   "cell_type": "code",
   "execution_count": 2,
   "metadata": {},
   "outputs": [],
   "source": [
    "import networkx as nx\n",
    "from itertools import combinations"
   ]
  },
  {
   "cell_type": "code",
   "execution_count": 36,
   "metadata": {},
   "outputs": [],
   "source": [
    "G = nx.Graph()"
   ]
  },
  {
   "cell_type": "code",
   "execution_count": 38,
   "metadata": {
    "scrolled": true
   },
   "outputs": [
    {
     "name": "stdout",
     "output_type": "stream",
     "text": [
      "1\n",
      "1001\n",
      "2001\n",
      "3001\n",
      "4001\n",
      "5001\n",
      "6001\n",
      "7001\n",
      "8001\n",
      "9001\n",
      "10001\n",
      "11001\n",
      "12001\n"
     ]
    }
   ],
   "source": [
    "for j, file in enumerate(glob.iglob(r'C:\\data\\results\\races\\*.pkd')):\n",
    "    if j % 1000 == 1:\n",
    "        print(j)\n",
    "    json = dill.load(open(file, 'rb'))\n",
    "\n",
    "    df_race = pd.read_json(json)\n",
    "    if df_race.empty:\n",
    "        continue\n",
    "    \n",
    "    # drop duplicate columns\n",
    "    columns = [str(i) for i in range(28)]  # Each column repeated for some reason\n",
    "    df_race = df_race.drop(columns=columns)\n",
    "\n",
    "    race_id = re.findall('(\\d+)', file)[0]\n",
    "    df_race['race_id'] = int(race_id)\n",
    "    \n",
    "    for group in df_race.groupby('RaceCategoryID').groups.values():\n",
    "        for name1, name2 in combinations(df_race.iloc[group]['RacerID'], 2):\n",
    "            if G.has_edge(name1, name2):\n",
    "                G[name1][name2]['weight'] += 1\n",
    "            else:\n",
    "                G.add_edge(name1, name2, weight=1)"
   ]
  },
  {
   "cell_type": "code",
   "execution_count": 39,
   "metadata": {},
   "outputs": [
    {
     "data": {
      "text/plain": [
       "(175846, 20072320)"
      ]
     },
     "execution_count": 39,
     "metadata": {},
     "output_type": "execute_result"
    }
   ],
   "source": [
    "G.number_of_nodes(), G.number_of_edges()"
   ]
  },
  {
   "cell_type": "code",
   "execution_count": 41,
   "metadata": {},
   "outputs": [],
   "source": [
    "# nx.readwrite.gpickle.write_gpickle(G, r'C:\\data\\results\\races\\graph.gz')"
   ]
  },
  {
   "cell_type": "code",
   "execution_count": 3,
   "metadata": {},
   "outputs": [],
   "source": [
    "G = nx.readwrite.gpickle.read_gpickle(r'C:/data/results/races/graph.gz')"
   ]
  },
  {
   "cell_type": "code",
   "execution_count": 25,
   "metadata": {},
   "outputs": [
    {
     "data": {
      "text/plain": [
       "True"
      ]
     },
     "execution_count": 25,
     "metadata": {},
     "output_type": "execute_result"
    }
   ],
   "source": [
    "sorted(list(G.neighbors(177974))) == sorted(list(set(G.neighbors(177974))))"
   ]
  },
  {
   "cell_type": "code",
   "execution_count": 4,
   "metadata": {},
   "outputs": [
    {
     "data": {
      "text/plain": [
       "count      100.000000\n",
       "mean      4292.520000\n",
       "std       3183.623859\n",
       "min       3483.000000\n",
       "25%       3587.250000\n",
       "50%       3749.500000\n",
       "75%       4170.250000\n",
       "max      35054.000000\n",
       "dtype: float64"
      ]
     },
     "execution_count": 4,
     "metadata": {},
     "output_type": "execute_result"
    }
   ],
   "source": [
    "import heapq  # Heaps are efficient structures for tracking the largest\n",
    "              # elements in a collection.  Use introspection to find the\n",
    "              # function you need.\n",
    "import pandas as pd\n",
    "        \n",
    "degree = heapq.nlargest(100, ((node, G.degree(node)) for node in G.nodes), key=lambda x: G.degree(x[0]))\n",
    "s = pd.Series([d[1] for d in degree])\n",
    "s.describe()"
   ]
  },
  {
   "cell_type": "code",
   "execution_count": 12,
   "metadata": {},
   "outputs": [
    {
     "data": {
      "text/plain": [
       "[(3288, 35054), (351, 8511), (5694, 6438), (6335, 5837), (56429, 5309)]"
      ]
     },
     "execution_count": 12,
     "metadata": {},
     "output_type": "execute_result"
    }
   ],
   "source": [
    "degree[:5]"
   ]
  },
  {
   "cell_type": "code",
   "execution_count": 13,
   "metadata": {},
   "outputs": [],
   "source": [
    "weights = [(key, value['weight']) for key, value in G.edges.items()]"
   ]
  },
  {
   "cell_type": "code",
   "execution_count": 15,
   "metadata": {},
   "outputs": [],
   "source": [
    "opponents = heapq.nlargest(100, weights, key=lambda x: x[1])\n",
    "s = pd.Series([d[1] for d in opponents])"
   ]
  },
  {
   "cell_type": "code",
   "execution_count": 17,
   "metadata": {
    "scrolled": true
   },
   "outputs": [
    {
     "data": {
      "text/plain": [
       "[((3288, 3288), 6737),\n",
       " ((61706, 61706), 5348),\n",
       " ((351, 351), 2793),\n",
       " ((832, 832), 582),\n",
       " ((5694, 5694), 282),\n",
       " ((39517, 39517), 274),\n",
       " ((15262, 15264), 219),\n",
       " ((73927, 68489), 207),\n",
       " ((15262, 16067), 202),\n",
       " ((37514, 52762), 200),\n",
       " ((5134, 24216), 196),\n",
       " ((45530, 20299), 189),\n",
       " ((37274, 126123), 182),\n",
       " ((75849, 126123), 180),\n",
       " ((43342, 24220), 179),\n",
       " ((15705, 15696), 177),\n",
       " ((44773, 126123), 176),\n",
       " ((45508, 20299), 175),\n",
       " ((44710, 45756), 174),\n",
       " ((6743, 6747), 171),\n",
       " ((21239, 118975), 169),\n",
       " ((42428, 43333), 169),\n",
       " ((75849, 44773), 169),\n",
       " ((37514, 50326), 165),\n",
       " ((44526, 44511), 165),\n",
       " ((42456, 39256), 164),\n",
       " ((44526, 75574), 164),\n",
       " ((75574, 126123), 163),\n",
       " ((29350, 126123), 161),\n",
       " ((37274, 75849), 161),\n",
       " ((45783, 44511), 159),\n",
       " ((44526, 44733), 159),\n",
       " ((75574, 56135), 159),\n",
       " ((45530, 45508), 158),\n",
       " ((24426, 5787), 158),\n",
       " ((44511, 44733), 158),\n",
       " ((5996, 5134), 157),\n",
       " ((45783, 44733), 157),\n",
       " ((20299, 78791), 157),\n",
       " ((15262, 13829), 156),\n",
       " ((37274, 44617), 156),\n",
       " ((44733, 19825), 156),\n",
       " ((16224, 16215), 155),\n",
       " ((45763, 20299), 155),\n",
       " ((45783, 19825), 155),\n",
       " ((44526, 56135), 155),\n",
       " ((45756, 44733), 155),\n",
       " ((75574, 45756), 154),\n",
       " ((37274, 33974), 154),\n",
       " ((5134, 117583), 154),\n",
       " ((595, 145), 153),\n",
       " ((45783, 75574), 153),\n",
       " ((44511, 19825), 153),\n",
       " ((125813, 116213), 152),\n",
       " ((45783, 56135), 152),\n",
       " ((29350, 75574), 152),\n",
       " ((44526, 5991), 152),\n",
       " ((75574, 44511), 152),\n",
       " ((38968, 25770), 151),\n",
       " ((52762, 50326), 151),\n",
       " ((20299, 38969), 151),\n",
       " ((44511, 5991), 151),\n",
       " ((45783, 45756), 150),\n",
       " ((45756, 24272), 150),\n",
       " ((44733, 5991), 150),\n",
       " ((44733, 126123), 150),\n",
       " ((44526, 126123), 149),\n",
       " ((46012, 46015), 149),\n",
       " ((45783, 44526), 148),\n",
       " ((29350, 44773), 148),\n",
       " ((44526, 19825), 148),\n",
       " ((37274, 19558), 148),\n",
       " ((44710, 44733), 148),\n",
       " ((9915, 20697), 147),\n",
       " ((8572, 5134), 147),\n",
       " ((305, 320), 147),\n",
       " ((44511, 126123), 147),\n",
       " ((44733, 56135), 147),\n",
       " ((45763, 45530), 146),\n",
       " ((75574, 44733), 146),\n",
       " ((37274, 45714), 146),\n",
       " ((37274, 44444), 146),\n",
       " ((37199, 26945), 145),\n",
       " ((45783, 5991), 145),\n",
       " ((30889, 30893), 144),\n",
       " ((7116, 5216), 144),\n",
       " ((29350, 75849), 144),\n",
       " ((75574, 75849), 144),\n",
       " ((48594, 70137), 144),\n",
       " ((45756, 44709), 144),\n",
       " ((44511, 56135), 144),\n",
       " ((44733, 44773), 143),\n",
       " ((44733, 49804), 143),\n",
       " ((5991, 19825), 143),\n",
       " ((75849, 45714), 143),\n",
       " ((15262, 15163), 142),\n",
       " ((29350, 107102), 142),\n",
       " ((5787, 47644), 142),\n",
       " ((45756, 56135), 142),\n",
       " ((45756, 19825), 142)]"
      ]
     },
     "execution_count": 17,
     "metadata": {},
     "output_type": "execute_result"
    }
   ],
   "source": [
    "opponents"
   ]
  }
 ],
 "metadata": {
  "kernelspec": {
   "display_name": "Python 3",
   "language": "python",
   "name": "python3"
  },
  "language_info": {
   "codemirror_mode": {
    "name": "ipython",
    "version": 3
   },
   "file_extension": ".py",
   "mimetype": "text/x-python",
   "name": "python",
   "nbconvert_exporter": "python",
   "pygments_lexer": "ipython3",
   "version": "3.8.3"
  }
 },
 "nbformat": 4,
 "nbformat_minor": 4
}
